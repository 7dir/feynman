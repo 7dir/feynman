{
  "nbformat_minor": 0, 
  "nbformat": 4, 
  "cells": [
    {
      "execution_count": null, 
      "cell_type": "code", 
      "source": [
        "%matplotlib inline"
      ], 
      "outputs": [], 
      "metadata": {
        "collapsed": false
      }
    }, 
    {
      "source": [
        "\nPolarization\n============\n\nA diagram containing different operators.\n\n"
      ], 
      "cell_type": "markdown", 
      "metadata": {}
    }, 
    {
      "execution_count": null, 
      "cell_type": "code", 
      "source": [
        "from __future__ import print_function, division\nimport numpy as np\nimport matplotlib.pyplot as plt\nfrom feynman import Diagram\n\n# Set up the dimensions of the figure and the objects\nd = Diagram(figsize=(8,3))\nd.ax.set_xlim(0, 8/3)\nd.ax.set_ylim(0, 1)\n\ntextpad = 0.25\nopwidth = 0.4\nlinlen = 1.1\nGamma_side = .4\nGamma_height = Gamma_side * np.sqrt(3) / 2\n\n# Positon of the first vertex\nx0 = 0.2\ny0 = sum(d.ax.get_ylim()) / 2\n\n# Define line styles\nG_style = dict(\n    style='double elliptic',\n    ellipse_excentricity=-1.2, ellipse_spread=.3,\n    arrow=True, arrow_param={'width':0.05},\n    )\n\n# Draw the diagram\nv01 = d.vertex([x0, y0])\nv02 = d.vertex(v01.xy, dx=opwidth)\nP = d.operator([v01,v02], c=1.3)\nP.text(\"$P$\")\n\nd.text(v02.x+textpad, y0, \"=\", fontsize=30)\n\nv21 = d.vertex(v02.xy, dx=.4)\nv22 = d.vertex(v21.xy, dx=linlen, dy=Gamma_side/2)\nv23 = d.vertex(v21.xy, dx=linlen, dy=-Gamma_side/2)\nv24 = d.vertex(v21.xy, dx=linlen+Gamma_height)\n\nl21 = d.line(v22, v21, **G_style)\nl21 = d.line(v21, v23, **G_style)\n\nGamma = d.operator([v22,v23, v24])\nGamma.text(\"$\\Gamma$\")\n\nd.draw()\nplt.show()"
      ], 
      "outputs": [], 
      "metadata": {
        "collapsed": false
      }
    }
  ], 
  "metadata": {
    "kernelspec": {
      "display_name": "Python 2", 
      "name": "python2", 
      "language": "python"
    }, 
    "language_info": {
      "mimetype": "text/x-python", 
      "nbconvert_exporter": "python", 
      "name": "python", 
      "file_extension": ".py", 
      "version": "2.7.10", 
      "pygments_lexer": "ipython2", 
      "codemirror_mode": {
        "version": 2, 
        "name": "ipython"
      }
    }
  }
}