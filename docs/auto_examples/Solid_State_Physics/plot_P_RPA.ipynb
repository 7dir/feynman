{
  "nbformat_minor": 0, 
  "nbformat": 4, 
  "cells": [
    {
      "execution_count": null, 
      "cell_type": "code", 
      "source": [
        "%matplotlib inline"
      ], 
      "outputs": [], 
      "metadata": {
        "collapsed": false
      }
    }, 
    {
      "source": [
        "\nRPA Polarization\n================\n\nA diagram containing an operator.\n\n"
      ], 
      "cell_type": "markdown", 
      "metadata": {}
    }, 
    {
      "execution_count": null, 
      "cell_type": "code", 
      "source": [
        "import matplotlib.pyplot as plt\nfrom feynman import Diagram\n\n# Set up the figure and ax\nfig = plt.figure(figsize=(8,2))\nax = fig.add_axes([0,0,1,1], frameon=False)\n\n# It is best to keep the xlim/ylim ratio the same as the figure aspect ratio.\nax.set_xlim(0, 1)\nax.set_ylim(0, 0.25)\n\ny0 = sum(ax.get_ylim()) / 2\n\n# Initialize diagram with the ax\nD = Diagram(ax)\n\n# Polarizability operator\nv11 = D.vertex([0.1, y0])\nv12 = D.vertex(v11.xy, dx=0.15)\nP = D.operator([v11, v12], c=1.3)  # c is the excentricity of the patch\nP.text(\"$P$\")\n\n# Symbols\nD.text(.35, y0, \"=\", fontsize=30)\n\n# Propagator lines\nG_style = dict(style='double elliptic',\n               ellipse_excentricity=-1.2, ellipse_spread=.3,\n               arrow=True, arrow_param={'width':0.03})\n\nv21 = D.vertex([0.45, y0])\nv22 = D.vertex(v21.xy, dx=0.4)\n\nG1 = D.line(v22, v21, **G_style)\nG2 = D.line(v21, v22, **G_style)\n\n# Plot and show\nD.plot()\nplt.show()"
      ], 
      "outputs": [], 
      "metadata": {
        "collapsed": false
      }
    }
  ], 
  "metadata": {
    "kernelspec": {
      "display_name": "Python 2", 
      "name": "python2", 
      "language": "python"
    }, 
    "language_info": {
      "mimetype": "text/x-python", 
      "nbconvert_exporter": "python", 
      "name": "python", 
      "file_extension": ".py", 
      "version": "2.7.10", 
      "pygments_lexer": "ipython2", 
      "codemirror_mode": {
        "version": 2, 
        "name": "ipython"
      }
    }
  }
}