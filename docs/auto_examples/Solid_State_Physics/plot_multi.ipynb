{
  "nbformat_minor": 0, 
  "nbformat": 4, 
  "cells": [
    {
      "execution_count": null, 
      "cell_type": "code", 
      "source": [
        "%matplotlib inline"
      ], 
      "outputs": [], 
      "metadata": {
        "collapsed": false
      }
    }, 
    {
      "source": [
        "\nElectron-phonon self-energy\n===========================\n\nExample for multiple independent diagrams.\n\n"
      ], 
      "cell_type": "markdown", 
      "metadata": {}
    }, 
    {
      "execution_count": null, 
      "cell_type": "code", 
      "source": [
        "from copy import deepcopy\n\nimport numpy as np\nfrom feynman import Diagram\nimport matplotlib.pyplot as plt\n\ndef main():\n\n    fig, axes = plt.subplots(figsize=(6,3), nrows=1, ncols=2,\n                             subplot_kw=dict(aspect='equal', frameon=True),\n                             sharex=True, sharey=True,\n                            )\n\n    G_style = dict(style='single', arrow=True, arrow_param={'width':0.05, 'length': .15})\n    Ph_style = dict(style='elliptic loopy', ellipse_spread=.55, xamp=0.035, yamp=-0.05, nloops=13)\n    DW_style = dict(style='circular loopy', circle_radius=.25, xamp=.04, yamp=.05, nloops=15)\n    V_style = dict()\n\n    get_diagram_one(axes[0], G_style, Ph_style, V_style)\n    get_diagram_two(axes[1], G_style, DW_style, V_style)\n\n    plt.tight_layout()\n\n    plt.show()\n\ndef get_diagram_one(ax, fermion_style, boson_style, vertex_style):\n\n    D = Diagram(ax)\n\n    w = 0.75\n    xy0 = [0.5 - w/2, 0.25]\n    v1 = D.vertex(xy0, **vertex_style)\n    v2 = D.vertex(v1.xy, dx=w, **vertex_style)\n    G = D.line(v1, v2, **fermion_style)\n    B = D.line(v1, v2, **boson_style)\n\n    # In case the axes get smaller (you have more diagrams), you might want to change the scale\n    D.scale(1.0)\n\n    D.plot()\n    return D\n\ndef get_diagram_two(ax, fermion_style, boson_style, vertex_style):\n\n    D = Diagram(ax)\n\n    w = 0.75\n    xy0 = [0.5 - w/2, 0.25]\n\n    v1 = D.vertex(xy0, **vertex_style)\n    v2 = D.vertex(v1.xy, dx=w/2, **vertex_style)\n    v3 = D.vertex(v1.xy, dx=w, **vertex_style)\n    G1 = D.line(v1, v2, **fermion_style)\n    G2 = D.line(v2, v3, **fermion_style)\n    B = D.line(v2, v2, **boson_style)\n\n    # In case the axes get smaller (you have more diagrams), you might want to change the scale\n    D.scale(1.0)\n\n    D.plot()\n    return D\n\nif __name__ == '__main__':\n    main()"
      ], 
      "outputs": [], 
      "metadata": {
        "collapsed": false
      }
    }
  ], 
  "metadata": {
    "kernelspec": {
      "display_name": "Python 2", 
      "name": "python2", 
      "language": "python"
    }, 
    "language_info": {
      "mimetype": "text/x-python", 
      "nbconvert_exporter": "python", 
      "name": "python", 
      "file_extension": ".py", 
      "version": "2.7.10", 
      "pygments_lexer": "ipython2", 
      "codemirror_mode": {
        "version": 2, 
        "name": "ipython"
      }
    }
  }
}