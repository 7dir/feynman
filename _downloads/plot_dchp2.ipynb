{
  "nbformat_minor": 0, 
  "nbformat": 4, 
  "cells": [
    {
      "execution_count": null, 
      "cell_type": "code", 
      "source": [
        "%matplotlib inline"
      ], 
      "outputs": [], 
      "metadata": {
        "collapsed": false
      }
    }, 
    {
      "source": [
        "\nDCHP2\n=====\n\nDoubly Charged Higgs Production\n\n"
      ], 
      "cell_type": "markdown", 
      "metadata": {}
    }, 
    {
      "execution_count": null, 
      "cell_type": "code", 
      "source": [
        "import matplotlib\nmatplotlib.rcParams['mathtext.fontset'] = 'stix'\nmatplotlib.rcParams['font.family'] = 'STIXGeneral'\n\nfrom feynman import Diagram\n\nfig = matplotlib.pyplot.figure(figsize=(10.,10.))\nax = fig.add_axes([0,0,1,1], frameon=False)\n\ndiagram = Diagram(ax)\ndiagram.text(.4,0.9,\"Doubly Charged Higgs Production\", fontsize=40)\nq1in = diagram.vertex(xy=(.1,.75), marker='')\nq2in= diagram.vertex(xy=(.1,.25), marker='')\nv1 = diagram.vertex(xy=(.3,.75))\nv2 = diagram.vertex(xy=(.3,.25))\nvmerge = diagram.vertex(xy=(.6,.5))\nhiggsout = diagram.vertex(xy=(.8,.5))\nq1pout = diagram.vertex(xy=(.95,.75), marker='')\nq2pout = diagram.vertex(xy=(.95,.25), marker='')\nl1out = diagram.vertex(xy=(.95,.62), marker='')\nl2out = diagram.vertex(xy=(.95,.38), marker='')\n\nlw = 5\n# Quarks\nq1 = diagram.line(q1in, v1, color='blue', lw=lw, arrow_param=dict(color='blue', length=0.08, width=0.02))\nq2 = diagram.line(q2in, v2, color='blue', lw=lw, arrow_param=dict(color='blue', length=0.08, width=0.02))\nq1p = diagram.line(v1, q1pout, color='blue', lw=lw, arrow_param=dict(color='blue', length=0.08, width=0.02))\nq2p = diagram.line(v2, q2pout, color='blue', lw=lw, arrow_param=dict(color='blue', length=0.08, width=0.02))\ndiagram.text(.05, 0.75, \"q\", fontsize=40)\ndiagram.text(.05, 0.25, \"q\",fontsize=40)\ndiagram.text(0.98, 0.75, r\"$\\mathrm{q}^\\prime$\", fontsize=40)\ndiagram.text(0.98, 0.25, r\"$\\mathrm{q}^\\prime$\",fontsize=40)\n\n# Bosons\nw1 = diagram.line(v1, vmerge, style='wiggly', color='green', lw=lw)\nw2 = diagram.line(v2, vmerge, style='wiggly', color='green', lw=lw)\nhiggs = diagram.line(vmerge, higgsout, arrow=False, ls='dashed', lw=lw, dashes=(4, 2))\ndiagram.text(0.35, 0.6, r\"$W^+$\", fontsize=40)\ndiagram.text(0.35, 0.38, r\"$W^+$\", fontsize=40)\ndiagram.text(0.72, 0.55, r\"$H^{++}$\", fontsize=40)\n\n# Leptons\nl1 = diagram.line(l1out, higgsout, color='blue', lw=lw, arrow_param=dict(color='blue', length=0.08, width=0.02))\nl2 = diagram.line(l2out, higgsout, color='blue', lw=lw, arrow_param=dict(color='blue', length=0.08, width=0.02))\ndiagram.text(0.98, 0.62, r\"$l^+$\", fontsize=40)\ndiagram.text(0.98, 0.38, r\"$l^+$\", fontsize=40)\n\n\ndiagram.plot()\nmatplotlib.pyplot.show()"
      ], 
      "outputs": [], 
      "metadata": {
        "collapsed": false
      }
    }
  ], 
  "metadata": {
    "kernelspec": {
      "display_name": "Python 2", 
      "name": "python2", 
      "language": "python"
    }, 
    "language_info": {
      "mimetype": "text/x-python", 
      "nbconvert_exporter": "python", 
      "name": "python", 
      "file_extension": ".py", 
      "version": "2.7.16", 
      "pygments_lexer": "ipython2", 
      "codemirror_mode": {
        "version": 2, 
        "name": "ipython"
      }
    }
  }
}