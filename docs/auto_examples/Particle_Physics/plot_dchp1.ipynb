{
  "nbformat_minor": 0, 
  "nbformat": 4, 
  "cells": [
    {
      "execution_count": null, 
      "cell_type": "code", 
      "source": [
        "%matplotlib inline"
      ], 
      "outputs": [], 
      "metadata": {
        "collapsed": false
      }
    }, 
    {
      "source": [
        "\nDCHP1\n=====\n\nDoubly Charged Higgs Production\n\n"
      ], 
      "cell_type": "markdown", 
      "metadata": {}
    }, 
    {
      "execution_count": null, 
      "cell_type": "code", 
      "source": [
        "import matplotlib\nmatplotlib.rcParams['mathtext.fontset'] = 'stix'\nmatplotlib.rcParams['font.family'] = 'STIXGeneral'\n\nfrom feynman import Diagram\n\nfig = matplotlib.pyplot.figure(figsize=(10.,10.))\nax = fig.add_axes([0,0,1,1], frameon=False)\n\ndiagram = Diagram(ax)\ndiagram.text(.4,0.9,\"Doubly Charged Higgs Production\", fontsize=40)\nin1 = diagram.vertex(xy=(.1,.75), marker='')\nin2= diagram.vertex(xy=(.1,.25), marker='')\nv1 = diagram.vertex(xy=(.35,.5))\nv2 = diagram.vertex(xy=(.65,.5))\nhiggsplusout = diagram.vertex(xy=(.8,.7))\nhiggsminusout = diagram.vertex(xy=(.8,.3))\nl1plus = diagram.vertex(xy=(.95,.8), marker='')\nl2plus = diagram.vertex(xy=(.95,.6), marker='')\nl1minus = diagram.vertex(xy=(.95,.4), marker='')\nl2minus = diagram.vertex(xy=(.95,.2), marker='')\n\nlw = 5\nq1 = diagram.line(v1, in1, color='blue', lw=lw, arrow_param=dict(color='blue', length=0.08, width=0.02))\nq2 = diagram.line(in2, v1, color='blue', lw=lw, arrow_param=dict(color='blue', length=0.08, width=0.02))\nl1 = diagram.line(l1plus, higgsplusout, color='blue', lw=lw, arrow_param=dict(color='blue', length=0.08, width=0.02))\nl2 = diagram.line(l2plus, higgsplusout, color='blue', lw=lw, arrow_param=dict(color='blue', length=0.08, width=0.02))\nl3 = diagram.line(higgsminusout, l1minus, color='blue', lw=lw, arrow_param=dict(color='blue', length=0.08, width=0.02))\nl4 = diagram.line(higgsminusout, l2minus, color='blue', lw=lw, arrow_param=dict(color='blue', length=0.08, width=0.02))\nwz1 = diagram.line(v1, v2, style='wiggly', color='green', lw=lw)\nhiggsplus = diagram.line(v2, higgsplusout, arrow=False, ls='dashed', lw=lw, dashes=(4, 2))\nhiggsminus = diagram.line(v2, higgsminusout, arrow=False, ls='dashed', lw=lw, dashes=(4, 2))\n\nq1.text(r\"$\\bar{\\mathrm{q}}$\", fontsize=40)\nq2.text(\"q\",fontsize=40)\ndiagram.text(0.5, 0.42, r\"$Z \\ / \\ \\gamma*$\", fontsize=40)\ndiagram.text(0.8, 0.58, r\"$H^{++}$\", fontsize=40)\ndiagram.text(0.8, 0.42, r\"$H^{--}$\", fontsize=40)\ndiagram.text(0.98, 0.8, r\"$l^+$\", fontsize=40)\ndiagram.text(0.98, 0.6, r\"$l^+$\", fontsize=40)\ndiagram.text(0.98, 0.4, r\"$l^-$\", fontsize=40)\ndiagram.text(0.98, 0.2, r\"$l^-$\", fontsize=40)\n\n\ndiagram.plot()\nmatplotlib.pyplot.show()"
      ], 
      "outputs": [], 
      "metadata": {
        "collapsed": false
      }
    }
  ], 
  "metadata": {
    "kernelspec": {
      "display_name": "Python 2", 
      "name": "python2", 
      "language": "python"
    }, 
    "language_info": {
      "mimetype": "text/x-python", 
      "nbconvert_exporter": "python", 
      "name": "python", 
      "file_extension": ".py", 
      "version": "2.7.16", 
      "pygments_lexer": "ipython2", 
      "codemirror_mode": {
        "version": 2, 
        "name": "ipython"
      }
    }
  }
}